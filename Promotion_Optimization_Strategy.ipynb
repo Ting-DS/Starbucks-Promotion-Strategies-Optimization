{
 "cells": [
  {
   "cell_type": "markdown",
   "metadata": {},
   "source": [
    "### Advertising Promotion Optimization - A/B testing and Client Targeting\n",
    "\n",
    "\n",
    "#### Background Information\n",
    "\n",
    "The dataset provided in this project was originally used as a take-home assignment provided by Starbucks for their job candidates. The data consists of about 120,000 data points split in a 2:1 ratio among training and test files. In the experiment simulated by the data, an advertising promotion was tested to see if it would bring more customers to purchase a specific product priced at $10. Since it costs the company 0.15 to send out each promotion, it would be best to limit that promotion only to those that are most receptive to the promotion. Each data point includes one column indicating whether or not an individual was sent a promotion for the product, and one column indicating whether or not that individual eventually purchased that product. Each individual also has seven additional features associated with them, which are provided abstractly as V1-V7.\n",
    "\n",
    "#### Optimization Strategy\n",
    "\n",
    "The task is to use the training data to understand what patterns in V1-V7 to indicate that a promotion should be provided to a user. Specifically, the goal is to maximize the following metrics:\n",
    "\n",
    "* **Incremental Response Rate (IRR)** \n",
    "\n",
    "IRR depicts how many more customers purchased the product with the promotion, as compared to if they didn't receive the promotion. Mathematically, it's the ratio of the number of purchasers in the promotion group to the total number of customers in the purchasers group (_treatment_) minus the ratio of the number of purchasers in the non-promotional group to the total number of customers in the non-promotional group (_control_).\n",
    "\n",
    "$$ IRR = \\frac{purch_{treat}}{cust_{treat}} - \\frac{purch_{ctrl}}{cust_{ctrl}} $$\n",
    "\n",
    "\n",
    "* **Net Incremental Revenue (NIR)**\n",
    "\n",
    "NIR depicts how much is made (or lost) by sending out the promotion. Mathematically, this is 10 times the total number of purchasers that received the promotion minus 0.15 times the number of promotions sent out, minus 10 times the number of purchasers who were not given the promotion.\n",
    "\n",
    "$$ NIR = (10\\cdot purch_{treat} - 0.15 \\cdot cust_{treat}) - 10 \\cdot purch_{ctrl}$$\n",
    "\n",
    "For a full description of what Starbucks provides to candidates see the [instructions available here](https://drive.google.com/open?id=18klca9Sef1Rs6q8DW4l7o349r8B70qXM).\n",
    "\n",
    "\n",
    "#### How To Test The Strategy?\n",
    "\n",
    "When reaching an optimization strategy, the `promotion_strategy` function will be run to pass to the `test_results` function.  \n",
    "From past data, we know there are four possible outomes:\n",
    "\n",
    "Table of actual promotion vs. predicted promotion customers:  \n",
    "\n",
    "<table>\n",
    "<tr><th></th><th colspan = '2'>Actual</th></tr>\n",
    "<tr><th>Predicted</th><th>Yes</th><th>No</th></tr>\n",
    "<tr><th>Yes</th><td>I</td><td>II</td></tr>\n",
    "<tr><th>No</th><td>III</td><td>IV</td></tr>\n",
    "</table>\n",
    "\n",
    "The metrics are only being compared for the individuals we predict should obtain the promotion – that is, quadrants I and II.  Since the first set of individuals that receive the promotion (in the training set) receive it randomly, we can expect that quadrants I and II will have approximately equivalent participants.  \n",
    "\n",
    "Comparing quadrant I to II then gives an idea of how well the promotion strategy will work in the future. \n",
    "\n",
    "Each strategy will be tested against the test dataset used in the final `test_results` function."
   ]
  },
  {
   "cell_type": "markdown",
   "metadata": {},
   "source": [
    "<h2>Table of Contents</h2>\n",
    "<ol>\n",
    "    <a href = '#ab'><li><b>Checking A/B Test</b></li></a>\n",
    "        <ol>\n",
    "            <a href = '#inva'><li><b>Invariant Metric</b></li></a>\n",
    "            <a href = '#eval'><li><b>Evaluation Metric</b></li></a>\n",
    "        </ol>\n",
    "    <a href = '#analysis'><li><b>Exploratory Analysis</b></li></a>\n",
    "        <ol>\n",
    "            <a href = '#corr'><li><b>Correlation</b></li></a>\n",
    "                <ol>\n",
    "                    <a href = '#corranal'><li><b>Considerations on Correlation Analysis</b></li></a>\n",
    "                </ol>\n",
    "            <a href = '#hist'><li><b>Histogram</b></li></a>\n",
    "                <ol>\n",
    "                    <a href = '#histanal'><li><b>Considerations on Histogram Analysis</b></li></a>\n",
    "                </ol>\n",
    "        </ol>\n",
    "    <a href = '#start'><li><b>Starting Parameters</b></a>\n",
    "        <ol>\n",
    "            <a href = '#appr1'><li><b>All the Clients</b></li></a>\n",
    "            <a href = '#appr2'><li><b>Client Segmentation Using Individual Correlation</b></li></a>\n",
    "        </ol>\n",
    "    <a href = '#diff'><li><b>Testing Different Approaches</b></a>\n",
    "        <ol>\n",
    "            <a href = '#appr3'><li><b>Logistic Regression</b></li></a>\n",
    "            <a href = '#appr4'><li><b>XGBoost Classifier</b></li></a>\n",
    "                <ol>\n",
    "                    <a href = '#appr40'><li><b>Basic Approach</b></li></a>\n",
    "                    <a href = '#appr41'><li><b>Manipulating Features - Approach 1</b></li></a>\n",
    "                    <a href = '#appr42'><li><b>Manipulating Features - Approach 2</b></li></a>\n",
    "                    <a href = '#appr43'><li><b>Manipulating Features - Approach 3</b></li></a>\n",
    "                </ol>\n",
    "        </ol>\n",
    "     <a href = '#conclusion'><li><b>Conclusion</b></li></a>\n",
    "</ol>"
   ]
  },
  {
   "cell_type": "code",
   "execution_count": 1,
   "metadata": {},
   "outputs": [],
   "source": [
    "# load in packages\n",
    "from itertools import combinations\n",
    "\n",
    "import matplotlib.pyplot as plt\n",
    "import seaborn as sns\n",
    "\n",
    "from test_results import test_results, score\n",
    "import numpy as np\n",
    "import pandas as pd\n",
    "import scipy as sp\n",
    "import sklearn as sk\n",
    "\n",
    "from imblearn.over_sampling import SMOTENC, SMOTE\n",
    "from sklearn.linear_model import LogisticRegression\n",
    "from sklearn.tree import DecisionTreeClassifier\n",
    "from xgboost import XGBClassifier\n",
    "from sklearn.model_selection import GridSearchCV\n",
    "\n",
    "import matplotlib.pyplot as plt\n",
    "import seaborn as sb\n",
    "%matplotlib inline\n",
    "\n",
    "import warnings\n",
    "warnings.filterwarnings('ignore')"
   ]
  },
  {
   "cell_type": "code",
   "execution_count": 2,
   "metadata": {},
   "outputs": [
    {
     "data": {
      "text/html": [
       "<div>\n",
       "<style scoped>\n",
       "    .dataframe tbody tr th:only-of-type {\n",
       "        vertical-align: middle;\n",
       "    }\n",
       "\n",
       "    .dataframe tbody tr th {\n",
       "        vertical-align: top;\n",
       "    }\n",
       "\n",
       "    .dataframe thead th {\n",
       "        text-align: right;\n",
       "    }\n",
       "</style>\n",
       "<table border=\"1\" class=\"dataframe\">\n",
       "  <thead>\n",
       "    <tr style=\"text-align: right;\">\n",
       "      <th></th>\n",
       "      <th>ID</th>\n",
       "      <th>Promotion</th>\n",
       "      <th>purchase</th>\n",
       "      <th>V1</th>\n",
       "      <th>V2</th>\n",
       "      <th>V3</th>\n",
       "      <th>V4</th>\n",
       "      <th>V5</th>\n",
       "      <th>V6</th>\n",
       "      <th>V7</th>\n",
       "    </tr>\n",
       "  </thead>\n",
       "  <tbody>\n",
       "    <tr>\n",
       "      <th>0</th>\n",
       "      <td>1</td>\n",
       "      <td>No</td>\n",
       "      <td>0</td>\n",
       "      <td>2</td>\n",
       "      <td>30.443518</td>\n",
       "      <td>-1.165083</td>\n",
       "      <td>1</td>\n",
       "      <td>1</td>\n",
       "      <td>3</td>\n",
       "      <td>2</td>\n",
       "    </tr>\n",
       "    <tr>\n",
       "      <th>1</th>\n",
       "      <td>3</td>\n",
       "      <td>No</td>\n",
       "      <td>0</td>\n",
       "      <td>3</td>\n",
       "      <td>32.159350</td>\n",
       "      <td>-0.645617</td>\n",
       "      <td>2</td>\n",
       "      <td>3</td>\n",
       "      <td>2</td>\n",
       "      <td>2</td>\n",
       "    </tr>\n",
       "    <tr>\n",
       "      <th>2</th>\n",
       "      <td>4</td>\n",
       "      <td>No</td>\n",
       "      <td>0</td>\n",
       "      <td>2</td>\n",
       "      <td>30.431659</td>\n",
       "      <td>0.133583</td>\n",
       "      <td>1</td>\n",
       "      <td>1</td>\n",
       "      <td>4</td>\n",
       "      <td>2</td>\n",
       "    </tr>\n",
       "    <tr>\n",
       "      <th>3</th>\n",
       "      <td>5</td>\n",
       "      <td>No</td>\n",
       "      <td>0</td>\n",
       "      <td>0</td>\n",
       "      <td>26.588914</td>\n",
       "      <td>-0.212728</td>\n",
       "      <td>2</td>\n",
       "      <td>1</td>\n",
       "      <td>4</td>\n",
       "      <td>2</td>\n",
       "    </tr>\n",
       "    <tr>\n",
       "      <th>4</th>\n",
       "      <td>8</td>\n",
       "      <td>Yes</td>\n",
       "      <td>0</td>\n",
       "      <td>3</td>\n",
       "      <td>28.044331</td>\n",
       "      <td>-0.385883</td>\n",
       "      <td>1</td>\n",
       "      <td>1</td>\n",
       "      <td>2</td>\n",
       "      <td>2</td>\n",
       "    </tr>\n",
       "  </tbody>\n",
       "</table>\n",
       "</div>"
      ],
      "text/plain": [
       "   ID Promotion  purchase  V1         V2        V3  V4  V5  V6  V7\n",
       "0   1        No         0   2  30.443518 -1.165083   1   1   3   2\n",
       "1   3        No         0   3  32.159350 -0.645617   2   3   2   2\n",
       "2   4        No         0   2  30.431659  0.133583   1   1   4   2\n",
       "3   5        No         0   0  26.588914 -0.212728   2   1   4   2\n",
       "4   8       Yes         0   3  28.044331 -0.385883   1   1   2   2"
      ]
     },
     "execution_count": 2,
     "metadata": {},
     "output_type": "execute_result"
    }
   ],
   "source": [
    "# loading the data:\n",
    "train_data = pd.read_csv('training.csv')\n",
    "train_data.head()"
   ]
  },
  {
   "cell_type": "markdown",
   "metadata": {},
   "source": [
    "<h2>Checking A/B Test</h2>\n",
    "<p>\n",
    "    Since we are dealing with the results of the A/B test applied, we are going to run a statistical test over both invariant and experimental metrics - in this case, number of clients assigned to the control and the experimental groups and the number of purchases for each group respectively.\n",
    "</p>\n",
    "<p>\n",
    "    In both tests, we are going to consider a significance of 5%.\n",
    "</p>\n",
    "<h3>Invariant Metric</h3>\n",
    "<p>\n",
    "    First, let's check whether or not the invariant metric (number os clients designated to control and experimental groups) is statistically equal by computing the p-value when comparing the two groups:\n",
    "</p>"
   ]
  },
  {
   "cell_type": "code",
   "execution_count": 3,
   "metadata": {},
   "outputs": [
    {
     "data": {
      "text/plain": [
       "Yes    42364\n",
       "No     42170\n",
       "Name: Promotion, dtype: int64"
      ]
     },
     "execution_count": 3,
     "metadata": {},
     "output_type": "execute_result"
    }
   ],
   "source": [
    "# number of clients designated to each group in training set:\n",
    "train_data.Promotion.value_counts()"
   ]
  },
  {
   "cell_type": "code",
   "execution_count": 4,
   "metadata": {},
   "outputs": [
    {
     "name": "stdout",
     "output_type": "stream",
     "text": [
      "Z score for the invariant metric is 0.67\n"
     ]
    }
   ],
   "source": [
    "# expected probability when randomly designating clients to promotion and non-promotion groups:\n",
    "mean = 0.5\n",
    "\n",
    "# creating experiment list:\n",
    "exp_list = [1 if x == 'Yes' else 0 for x in train_data.Promotion]\n",
    "\n",
    "# computing sample mean:\n",
    "s_mean = (np.sum(exp_list) + 0.5) / len(exp_list)\n",
    "\n",
    "# computing standard deviation:\n",
    "s_std = np.std(exp_list)\n",
    "\n",
    "# computing z score:\n",
    "z_im = (s_mean - mean) / (s_std / np.sqrt(len(exp_list)))\n",
    "print('Z score for the invariant metric is {:.2f}'.format(z_im))"
   ]
  },
  {
   "cell_type": "code",
   "execution_count": 5,
   "metadata": {},
   "outputs": [
    {
     "name": "stdout",
     "output_type": "stream",
     "text": [
      "Invariant metric: p-value is 0.25, which means we failed to reject null hypothesis.\n"
     ]
    }
   ],
   "source": [
    "# computing p-value:\n",
    "p_value_im = sp.stats.norm.cdf(-z_im)\n",
    "print('Invariant metric: p-value is {:.2f}, which means we failed to reject null hypothesis.'.format(p_value_im))"
   ]
  },
  {
   "cell_type": "markdown",
   "metadata": {},
   "source": [
    "<h3>Evaluation Metric</h3>\n",
    "<p>\n",
    "    Once the composition of control and experimental groups is considered statistically correct, we're are going to check if the experiment resulted effectively in increasing the number of purchases in comparison to the control group:\n",
    "</p>"
   ]
  },
  {
   "cell_type": "code",
   "execution_count": 6,
   "metadata": {},
   "outputs": [
    {
     "name": "stdout",
     "output_type": "stream",
     "text": [
      "Z score for the experimental metric is 12.47\n"
     ]
    }
   ],
   "source": [
    "# experimental group size:\n",
    "n1 = np.sum(exp_list)\n",
    "\n",
    "# control group size:\n",
    "n0 = len(exp_list) - n1\n",
    "\n",
    "# purchase overall mean:\n",
    "p_null = train_data.purchase.mean()\n",
    "\n",
    "# purchase mean in control group:\n",
    "p0 = train_data[train_data.Promotion == 'No'].purchase.mean()\n",
    "\n",
    "# purchase mean in experimental group:\n",
    "p1 = train_data[train_data.Promotion == 'Yes'].purchase.mean()\n",
    "\n",
    "# computing standard error:\n",
    "se = np.sqrt(p_null * (1-p_null) * (1/n0 + 1/n1))\n",
    "\n",
    "# computing z score:\n",
    "z_em = (p1 - p0) / se\n",
    "print('Z score for the experimental metric is {:.2f}'.format(z_em))"
   ]
  },
  {
   "cell_type": "code",
   "execution_count": 7,
   "metadata": {},
   "outputs": [
    {
     "name": "stdout",
     "output_type": "stream",
     "text": [
      "Experimental metric: p-value is 0.00, which means that we can reject null hypthesis with over 95% of confidence.\n"
     ]
    }
   ],
   "source": [
    "# computing p-value:\n",
    "p_value_em = sp.stats.norm.cdf(-z_em)\n",
    "print('Experimental metric: p-value is {:.2f}, which means that we can reject null hypthesis with over 95% of confidence.'.format(p_value_em))"
   ]
  },
  {
   "cell_type": "markdown",
   "metadata": {},
   "source": [
    "<h2>Exploratory Analysis</h2>\n",
    "<p>\n",
    "    In the experiment, the promotion was randomly sent to Starbucks' clients. The goal is to use the data collected to improve the strategy by sending the promotion only to the ones who are more likely to use it.\n",
    "</p>\n",
    "<p>\n",
    "    In other words, we need to differenciate customers that would buy the product <b>because of the promotion</b> from the ones that would buy it even if they didn't get the promotion and the group that wouldn't buy it despite of any promotion.\n",
    "</p>"
   ]
  },
  {
   "cell_type": "code",
   "execution_count": 8,
   "metadata": {},
   "outputs": [
    {
     "data": {
      "text/html": [
       "<div>\n",
       "<style scoped>\n",
       "    .dataframe tbody tr th:only-of-type {\n",
       "        vertical-align: middle;\n",
       "    }\n",
       "\n",
       "    .dataframe tbody tr th {\n",
       "        vertical-align: top;\n",
       "    }\n",
       "\n",
       "    .dataframe thead th {\n",
       "        text-align: right;\n",
       "    }\n",
       "</style>\n",
       "<table border=\"1\" class=\"dataframe\">\n",
       "  <thead>\n",
       "    <tr style=\"text-align: right;\">\n",
       "      <th></th>\n",
       "      <th>ID</th>\n",
       "      <th>purchase</th>\n",
       "      <th>V1</th>\n",
       "      <th>V2</th>\n",
       "      <th>V3</th>\n",
       "      <th>V4</th>\n",
       "      <th>V5</th>\n",
       "      <th>V6</th>\n",
       "      <th>V7</th>\n",
       "    </tr>\n",
       "  </thead>\n",
       "  <tbody>\n",
       "    <tr>\n",
       "      <th>count</th>\n",
       "      <td>84534.000000</td>\n",
       "      <td>84534.000000</td>\n",
       "      <td>84534.000000</td>\n",
       "      <td>84534.000000</td>\n",
       "      <td>84534.000000</td>\n",
       "      <td>84534.000000</td>\n",
       "      <td>84534.000000</td>\n",
       "      <td>84534.000000</td>\n",
       "      <td>84534.000000</td>\n",
       "    </tr>\n",
       "    <tr>\n",
       "      <th>mean</th>\n",
       "      <td>62970.972413</td>\n",
       "      <td>0.012303</td>\n",
       "      <td>1.500662</td>\n",
       "      <td>29.973600</td>\n",
       "      <td>0.000190</td>\n",
       "      <td>1.679608</td>\n",
       "      <td>2.327643</td>\n",
       "      <td>2.502898</td>\n",
       "      <td>1.701694</td>\n",
       "    </tr>\n",
       "    <tr>\n",
       "      <th>std</th>\n",
       "      <td>36418.440539</td>\n",
       "      <td>0.110234</td>\n",
       "      <td>0.868234</td>\n",
       "      <td>5.010626</td>\n",
       "      <td>1.000485</td>\n",
       "      <td>0.466630</td>\n",
       "      <td>0.841167</td>\n",
       "      <td>1.117349</td>\n",
       "      <td>0.457517</td>\n",
       "    </tr>\n",
       "    <tr>\n",
       "      <th>min</th>\n",
       "      <td>1.000000</td>\n",
       "      <td>0.000000</td>\n",
       "      <td>0.000000</td>\n",
       "      <td>7.104007</td>\n",
       "      <td>-1.684550</td>\n",
       "      <td>1.000000</td>\n",
       "      <td>1.000000</td>\n",
       "      <td>1.000000</td>\n",
       "      <td>1.000000</td>\n",
       "    </tr>\n",
       "    <tr>\n",
       "      <th>25%</th>\n",
       "      <td>31467.250000</td>\n",
       "      <td>0.000000</td>\n",
       "      <td>1.000000</td>\n",
       "      <td>26.591501</td>\n",
       "      <td>-0.905350</td>\n",
       "      <td>1.000000</td>\n",
       "      <td>2.000000</td>\n",
       "      <td>2.000000</td>\n",
       "      <td>1.000000</td>\n",
       "    </tr>\n",
       "    <tr>\n",
       "      <th>50%</th>\n",
       "      <td>62827.500000</td>\n",
       "      <td>0.000000</td>\n",
       "      <td>2.000000</td>\n",
       "      <td>29.979744</td>\n",
       "      <td>-0.039572</td>\n",
       "      <td>2.000000</td>\n",
       "      <td>2.000000</td>\n",
       "      <td>3.000000</td>\n",
       "      <td>2.000000</td>\n",
       "    </tr>\n",
       "    <tr>\n",
       "      <th>75%</th>\n",
       "      <td>94438.750000</td>\n",
       "      <td>0.000000</td>\n",
       "      <td>2.000000</td>\n",
       "      <td>33.344593</td>\n",
       "      <td>0.826206</td>\n",
       "      <td>2.000000</td>\n",
       "      <td>3.000000</td>\n",
       "      <td>4.000000</td>\n",
       "      <td>2.000000</td>\n",
       "    </tr>\n",
       "    <tr>\n",
       "      <th>max</th>\n",
       "      <td>126184.000000</td>\n",
       "      <td>1.000000</td>\n",
       "      <td>3.000000</td>\n",
       "      <td>50.375913</td>\n",
       "      <td>1.691984</td>\n",
       "      <td>2.000000</td>\n",
       "      <td>4.000000</td>\n",
       "      <td>4.000000</td>\n",
       "      <td>2.000000</td>\n",
       "    </tr>\n",
       "  </tbody>\n",
       "</table>\n",
       "</div>"
      ],
      "text/plain": [
       "                  ID      purchase            V1            V2            V3  \\\n",
       "count   84534.000000  84534.000000  84534.000000  84534.000000  84534.000000   \n",
       "mean    62970.972413      0.012303      1.500662     29.973600      0.000190   \n",
       "std     36418.440539      0.110234      0.868234      5.010626      1.000485   \n",
       "min         1.000000      0.000000      0.000000      7.104007     -1.684550   \n",
       "25%     31467.250000      0.000000      1.000000     26.591501     -0.905350   \n",
       "50%     62827.500000      0.000000      2.000000     29.979744     -0.039572   \n",
       "75%     94438.750000      0.000000      2.000000     33.344593      0.826206   \n",
       "max    126184.000000      1.000000      3.000000     50.375913      1.691984   \n",
       "\n",
       "                 V4            V5            V6            V7  \n",
       "count  84534.000000  84534.000000  84534.000000  84534.000000  \n",
       "mean       1.679608      2.327643      2.502898      1.701694  \n",
       "std        0.466630      0.841167      1.117349      0.457517  \n",
       "min        1.000000      1.000000      1.000000      1.000000  \n",
       "25%        1.000000      2.000000      2.000000      1.000000  \n",
       "50%        2.000000      2.000000      3.000000      2.000000  \n",
       "75%        2.000000      3.000000      4.000000      2.000000  \n",
       "max        2.000000      4.000000      4.000000      2.000000  "
      ]
     },
     "execution_count": 8,
     "metadata": {},
     "output_type": "execute_result"
    }
   ],
   "source": [
    "# general statistical overview:\n",
    "train_data.describe()"
   ]
  },
  {
   "cell_type": "code",
   "execution_count": 9,
   "metadata": {},
   "outputs": [
    {
     "data": {
      "text/plain": [
       "ID           0.0\n",
       "Promotion    0.0\n",
       "purchase     0.0\n",
       "V1           0.0\n",
       "V2           0.0\n",
       "V3           0.0\n",
       "V4           0.0\n",
       "V5           0.0\n",
       "V6           0.0\n",
       "V7           0.0\n",
       "dtype: float64"
      ]
     },
     "execution_count": 9,
     "metadata": {},
     "output_type": "execute_result"
    }
   ],
   "source": [
    "# checking for null values:\n",
    "train_data.isnull().mean()"
   ]
  },
  {
   "cell_type": "code",
   "execution_count": 10,
   "metadata": {},
   "outputs": [
    {
     "data": {
      "text/plain": [
       "0    41851\n",
       "1      319\n",
       "Name: purchase, dtype: int64"
      ]
     },
     "execution_count": 10,
     "metadata": {},
     "output_type": "execute_result"
    }
   ],
   "source": [
    "# purchase count in control group:\n",
    "train_data[train_data.Promotion == 'No'].purchase.value_counts()"
   ]
  },
  {
   "cell_type": "code",
   "execution_count": 11,
   "metadata": {},
   "outputs": [
    {
     "data": {
      "text/plain": [
       "0    41643\n",
       "1      721\n",
       "Name: purchase, dtype: int64"
      ]
     },
     "execution_count": 11,
     "metadata": {},
     "output_type": "execute_result"
    }
   ],
   "source": [
    "# purchase count in experimental group:\n",
    "train_data[train_data.Promotion == 'Yes'].purchase.value_counts()"
   ]
  },
  {
   "cell_type": "markdown",
   "metadata": {},
   "source": [
    "<h3>Correlation</h3>"
   ]
  },
  {
   "cell_type": "code",
   "execution_count": 12,
   "metadata": {},
   "outputs": [
    {
     "data": {
      "image/png": "[encoded data removed]",
      "text/plain": [
       "<Figure size 720x720 with 2 Axes>"
      ]
     },
     "metadata": {
      "needs_background": "light"
     },
     "output_type": "display_data"
    }
   ],
   "source": [
    "# filtering data for control group:\n",
    "control = train_data[train_data.Promotion == 'No']\n",
    "sel_features = ['V1', 'V2', 'V3', 'V4', 'V5', 'V6', 'V7', 'purchase']\n",
    "\n",
    "# evaluating features' correlation for experimental group:\n",
    "contr_corr = control[sel_features].corr()\n",
    "\n",
    "# creating correlation plot:\n",
    "fig, ax = plt.subplots(nrows = 1, ncols = 1, figsize = (10, 10))\n",
    "\n",
    "sns.heatmap(contr_corr, annot = True, fmt = '.3g', vmin = -.3, vmax = .3, center = 0, \n",
    "                        cmap = 'RdYlBu', square = True)\n",
    "ax.set_title('Correlation Matrix - Control Group')\n",
    "\n",
    "fig.show()"
   ]
  },
  {
   "cell_type": "code",
   "execution_count": 13,
   "metadata": {
    "scrolled": false
   },
   "outputs": [
    {
     "data": {
      "image/png": "[encoded data removed]",
      "text/plain": [
       "<Figure size 720x720 with 2 Axes>"
      ]
     },
     "metadata": {
      "needs_background": "light"
     },
     "output_type": "display_data"
    }
   ],
   "source": [
    "# filtering data for experimental group:\n",
    "experimental = train_data[train_data.Promotion == 'Yes']\n",
    "\n",
    "# evaluating features' correlation for experimental group:\n",
    "exper_corr = experimental[sel_features].corr()\n",
    "\n",
    "# creating correlation plot:\n",
    "fig, ax = plt.subplots(nrows = 1, ncols = 1, figsize = (10, 10))\n",
    "\n",
    "sns.heatmap(exper_corr, annot = True, fmt = '.3g', vmin = -.3, vmax = .3, center = 0, \n",
    "                        cmap = 'RdYlBu', square = True)\n",
    "ax.set_title('Correlation Matrix - Experimental Group')\n",
    "\n",
    "fig.show()"
   ]
  },
  {
   "cell_type": "code",
   "execution_count": 14,
   "metadata": {},
   "outputs": [
    {
     "data": {
      "text/html": [
       "<div>\n",
       "<style scoped>\n",
       "    .dataframe tbody tr th:only-of-type {\n",
       "        vertical-align: middle;\n",
       "    }\n",
       "\n",
       "    .dataframe tbody tr th {\n",
       "        vertical-align: top;\n",
       "    }\n",
       "\n",
       "    .dataframe thead th {\n",
       "        text-align: right;\n",
       "    }\n",
       "</style>\n",
       "<table border=\"1\" class=\"dataframe\">\n",
       "  <thead>\n",
       "    <tr style=\"text-align: right;\">\n",
       "      <th></th>\n",
       "      <th>control</th>\n",
       "      <th>experimental</th>\n",
       "      <th>perc_var</th>\n",
       "    </tr>\n",
       "  </thead>\n",
       "  <tbody>\n",
       "    <tr>\n",
       "      <th>V1</th>\n",
       "      <td>-0.006088</td>\n",
       "      <td>-0.004651</td>\n",
       "      <td>-23.605724</td>\n",
       "    </tr>\n",
       "    <tr>\n",
       "      <th>V2</th>\n",
       "      <td>0.000090</td>\n",
       "      <td>-0.002885</td>\n",
       "      <td>-3306.003045</td>\n",
       "    </tr>\n",
       "    <tr>\n",
       "      <th>V3</th>\n",
       "      <td>0.008325</td>\n",
       "      <td>-0.017012</td>\n",
       "      <td>-304.357526</td>\n",
       "    </tr>\n",
       "    <tr>\n",
       "      <th>V4</th>\n",
       "      <td>0.002344</td>\n",
       "      <td>0.053348</td>\n",
       "      <td>2176.227435</td>\n",
       "    </tr>\n",
       "    <tr>\n",
       "      <th>V5</th>\n",
       "      <td>0.002771</td>\n",
       "      <td>0.011711</td>\n",
       "      <td>322.600958</td>\n",
       "    </tr>\n",
       "    <tr>\n",
       "      <th>V6</th>\n",
       "      <td>-0.000980</td>\n",
       "      <td>-0.002049</td>\n",
       "      <td>109.222660</td>\n",
       "    </tr>\n",
       "    <tr>\n",
       "      <th>V7</th>\n",
       "      <td>0.004786</td>\n",
       "      <td>-0.005005</td>\n",
       "      <td>-204.587034</td>\n",
       "    </tr>\n",
       "    <tr>\n",
       "      <th>purchase</th>\n",
       "      <td>1.000000</td>\n",
       "      <td>1.000000</td>\n",
       "      <td>-0.000000</td>\n",
       "    </tr>\n",
       "  </tbody>\n",
       "</table>\n",
       "</div>"
      ],
      "text/plain": [
       "           control  experimental     perc_var\n",
       "V1       -0.006088     -0.004651   -23.605724\n",
       "V2        0.000090     -0.002885 -3306.003045\n",
       "V3        0.008325     -0.017012  -304.357526\n",
       "V4        0.002344      0.053348  2176.227435\n",
       "V5        0.002771      0.011711   322.600958\n",
       "V6       -0.000980     -0.002049   109.222660\n",
       "V7        0.004786     -0.005005  -204.587034\n",
       "purchase  1.000000      1.000000    -0.000000"
      ]
     },
     "execution_count": 14,
     "metadata": {},
     "output_type": "execute_result"
    }
   ],
   "source": [
    "# observing the percentage variation in the correlation between control and experimental group: \n",
    "purch_corr = pd.DataFrame()\n",
    "purch_corr['control'] = contr_corr['purchase']\n",
    "purch_corr['experimental'] = exper_corr['purchase']\n",
    "purch_corr['perc_var'] = -((purch_corr.control - purch_corr.experimental)/purch_corr.control)*100\n",
    "purch_corr"
   ]
  },
  {
   "cell_type": "markdown",
   "metadata": {},
   "source": [
    "<p>\n",
    "    It's interesting to observe that, considering the only difference between control and experimental groups is whether or not they were given a promotion ticket, among the features with higher correlation, the one that was most responsive to the experiment is represented by <b>V4</b>.\n",
    "</p>\n",
    "<p>\n",
    "    V4 already had a positive correlation with the purchase feature, considering the control group. With the promotion event, its positive correlation increased by over 2000%, which is impressive. Considering the ideal experiment, where all the other variables are controlled, we could say that the higher V4 is, the more susceptible the client is to use the promotion and purchase the product. Since V4 is a binary feature (1 or 2), we can translate it as <b>class 2</b> being more receptive to the promotion event.\n",
    "</p>\n",
    "<p>\n",
    "    <b>V5</b> behaves the same as V4, but with lower intensity. In the control group, it already showed a positive correlation with the purchase, and this correlation was powered with the promotion, increasing by over 300%. V5 represents categories from 1 to 4, indicating that categories represented by higher numbers tend to be more affected by the promotion, in a positive way.\n",
    "</p>\n",
    "<p>\n",
    "    A different response is shown when observing the <b>V3</b> feature. In the control group, this variable represented the highest positive correlation, while in the experimental group this tendency was reversed: it became the second-highest correlation score, and this time in a negative direction. It looks like clients related to higher values of V3 have a naturally higher propensity for purchasing the product. At the same time, these clients are not quite receptive to promotional events.\n",
    "</p>\n",
    "<p>\n",
    "    Other features like <b>V2</b> show a great variation when comparing control and experimental groups. However, they don't stand out because their correlation values are too low in comparison to the other features.\n",
    "</p>\n",
    "<h4>Considerations on Correlation Analysis</h4>\n",
    "<p>\n",
    "    Just by looking at the correlation values for both groups, we could say that, in general, clients that belong to class 2 in feature V4, higher classes in V5, and are related to lower V3 values are the clients with more potential of being positively responsive to the promotion. \n",
    "</p>\n",
    "<p>\n",
    "    Also, we could see that clients associated with higer values of V3 seems to be more willing to purchase the product, despite any promotional event. Actually, promotional events seem to cause negative impact on their interest in purchasing the product.\n",
    "</p>\n",
    "<p>\n",
    "    At the same time, since even the highest correlation values represent in fact low correlation, we have to say that there must be other important clients' aspects not being captured by these features that affect the positive or negative responses to the promotional event.\n",
    "</p>"
   ]
  },
  {
   "cell_type": "markdown",
   "metadata": {},
   "source": [
    "<h3>Histogram</h3>"
   ]
  },
  {
   "cell_type": "code",
   "execution_count": 15,
   "metadata": {},
   "outputs": [
    {
     "name": "stdout",
     "output_type": "stream",
     "text": [
      "Histograms for Control Group V1-V7 \n",
      "red: no-purchase | blue: purchase\n"
     ]
    },
    {
     "data": {
      "text/plain": [
       "array([[<AxesSubplot:title={'center':'V5'}>,\n",
       "        <AxesSubplot:title={'center':'V6'}>,\n",
       "        <AxesSubplot:title={'center':'V7'}>]], dtype=object)"
      ]
     },
     "execution_count": 15,
     "metadata": {},
     "output_type": "execute_result"
    },
    {
     "data": {
      "image/png": "[encoded data removed]",
      "text/plain": [
       "<Figure size 1080x180 with 4 Axes>"
      ]
     },
     "metadata": {
      "needs_background": "light"
     },
     "output_type": "display_data"
    },
    {
     "data": {
      "image/png": "[encoded data removed]",
      "text/plain": [
       "<Figure size 1080x180 with 4 Axes>"
      ]
     },
     "metadata": {
      "needs_background": "light"
     },
     "output_type": "display_data"
    },
    {
     "data": {
      "image/png": "[encoded data removed]",
      "text/plain": [
       "<Figure size 1080x180 with 3 Axes>"
      ]
     },
     "metadata": {
      "needs_background": "light"
     },
     "output_type": "display_data"
    },
    {
     "data": {
      "image/png": "[encoded data removed]",
      "text/plain": [
       "<Figure size 1080x180 with 3 Axes>"
      ]
     },
     "metadata": {
      "needs_background": "light"
     },
     "output_type": "display_data"
    }
   ],
   "source": [
    "# Defining features:\n",
    "features = ['V1', 'V2', 'V3', 'V4', 'V5', 'V6', 'V7']\n",
    "\n",
    "# Features histograms for control group:\n",
    "print('Histograms for Control Group V1-V7 \\nred: no-purchase | blue: purchase')\n",
    "control[control.purchase == 0].hist(column = features[:4], figsize=(15,2.5), layout = (1, 4), \n",
    "                                    density = True, color = 'tomato')\n",
    "\n",
    "control[control.purchase == 1].hist(column = features[:4], figsize=(15,2.5), layout = (1, 4), \n",
    "                                              density = True, color = 'darkturquoise')\n",
    "\n",
    "control[control.purchase == 0].hist(column = features[4:], figsize=(15,2.5), layout = (1, 3), \n",
    "                                    density = True, color = 'tomato')\n",
    "\n",
    "control[control.purchase == 1].hist(column = features[4:], figsize=(15,2.5), layout = (1, 3), \n",
    "                                              density = True, color = 'darkturquoise')"
   ]
  },
  {
   "cell_type": "markdown",
   "metadata": {},
   "source": [
    "<p>\n",
    "    In the <b>control group</b>, we can see some differences between the ones who purchased the product or not. For example, people related to the class 1 in the V1 feature seem to be more likely to purchase the product in comparison to the other classes.\n",
    "</p>\n",
    "<p>\n",
    "    V3 reinforces what we concluded from the correlation analysis: clients with higher V3 values are more likely to buy the product without any promotional event.\n",
    "</p>\n",
    "<p>\n",
    "    V6 shows a slightly advantage in class 2 as a trend for naturally purchasing the product.\n",
    "</p>"
   ]
  },
  {
   "cell_type": "code",
   "execution_count": 16,
   "metadata": {
    "scrolled": false
   },
   "outputs": [
    {
     "name": "stdout",
     "output_type": "stream",
     "text": [
      "Histograms for Experimental Group V1-V7 \n",
      "red: no-purchase | blue: purchase\n"
     ]
    },
    {
     "data": {
      "text/plain": [
       "array([[<AxesSubplot:title={'center':'V5'}>,\n",
       "        <AxesSubplot:title={'center':'V6'}>,\n",
       "        <AxesSubplot:title={'center':'V7'}>]], dtype=object)"
      ]
     },
     "execution_count": 16,
     "metadata": {},
     "output_type": "execute_result"
    },
    {
     "data": {
      "image/png": "[encoded data removed]",
      "text/plain": [
       "<Figure size 1080x180 with 4 Axes>"
      ]
     },
     "metadata": {
      "needs_background": "light"
     },
     "output_type": "display_data"
    },
    {
     "data": {
      "image/png": "[encoded data removed]",
      "text/plain": [
       "<Figure size 1080x180 with 4 Axes>"
      ]
     },
     "metadata": {
      "needs_background": "light"
     },
     "output_type": "display_data"
    },
    {
     "data": {
      "image/png": "[encoded data removed]",
      "text/plain": [
       "<Figure size 1080x180 with 3 Axes>"
      ]
     },
     "metadata": {
      "needs_background": "light"
     },
     "output_type": "display_data"
    },
    {
     "data": {
      "image/png": "[encoded data removed]",
      "text/plain": [
       "<Figure size 1080x180 with 3 Axes>"
      ]
     },
     "metadata": {
      "needs_background": "light"
     },
     "output_type": "display_data"
    }
   ],
   "source": [
    "# Features histograms for experimental group:\n",
    "print('Histograms for Experimental Group V1-V7 \\nred: no-purchase | blue: purchase')\n",
    "experimental[experimental.purchase == 0].hist(column = features[:4], figsize=(15,2.5), layout = (1, 4), \n",
    "                                    density = True, color = 'tomato')\n",
    "\n",
    "experimental[experimental.purchase == 1].hist(column = features[:4], figsize=(15,2.5), layout = (1, 4), \n",
    "                                              density = True, color = 'darkturquoise')\n",
    "\n",
    "experimental[experimental.purchase == 0].hist(column = features[4:], figsize=(15,2.5), layout = (1, 3), \n",
    "                                    density = True, color = 'tomato')\n",
    "\n",
    "experimental[experimental.purchase == 1].hist(column = features[4:], figsize=(15,2.5), layout = (1, 3), \n",
    "                                              density = True, color = 'darkturquoise')"
   ]
  },
  {
   "cell_type": "markdown",
   "metadata": {},
   "source": [
    "<p>\n",
    "    In the <b>experimental group</b> we can see some interesting changes. In V1, for example, the trend presented by class 1 in the control group is reverted, since proportionally class 2 increases its participation with the promotion, and class 1 decreases the participation among the buyers.\n",
    "</p>\n",
    "<p>\n",
    "    V2 shows that clients with values closer to the mean are more responsive to the promotion.\n",
    "</p>\n",
    "<p>\n",
    "    Again, we can see through V3 that its distribution resembles a mirrored-image of the control group, considering the ones who purchased the product. In other words, lower values of V3 represent consumers that purchase the product because of the promotion, while higher values of V3 represent consumers that are discouraged to buy the product because of the promotion.\n",
    "</p>\n",
    "<p>\n",
    "    Class 1 in V4 tends to be not responsive to the promotional event, as well as class 2 in V6 and more significantly in the V5 feature. In the other hand, class 3 in V5 seems to increase its purchase rate with the promotional event.\n",
    "</p>\n",
    "\n",
    "<h4>Considerations on Histogram Analysis</h4>\n",
    "<p>\n",
    "    We could reinforce some of the conclusions settled before, and we could see some changes in the behavior of the clients depending on whether they were submitted to the promotional event or not.\n",
    "</p>\n",
    "<p>\n",
    "    Although we don't know exactly what each feature is representing, I would guess that V2 represents something like ages, being that the subjects who are around their thirties tend to be more responsive to the promotion.\n",
    "</p>\n",
    "<p>\n",
    "    V3 could easily represent the subject's incomes, once the ones who have higher incomes would buy the product whenever they wanted to, and the ones with lower incomes would increase their purchases once they were exposed to some promotional event.\n",
    "</p>"
   ]
  },
  {
   "cell_type": "markdown",
   "metadata": {},
   "source": [
    "<h2>Starting Parameters</h2>\n",
    "<p>\n",
    "    Once we have identified one consumer's potential profile that is more receptive to the promotion offer, let's simply test what would be the test result if we sent the promotion to:\n",
    "<ol type=\"1\">\n",
    "    <li>all the clients;</li>\n",
    "    <li>the clients within features' values with higher positive correlation.</li>\n",
    "</ol>\n",
    "</p>"
   ]
  },
  {
   "cell_type": "markdown",
   "metadata": {},
   "source": [
    "<h3>Approach 1 - All the Clients</h3>"
   ]
  },
  {
   "cell_type": "code",
   "execution_count": 17,
   "metadata": {},
   "outputs": [
    {
     "name": "stdout",
     "output_type": "stream",
     "text": [
      "Nice job!  See how well your strategy worked on our test data below!\n",
      "\n",
      "Your irr with this strategy is 0.0096.\n",
      "\n",
      "Your nir with this strategy is -1132.20.\n",
      "We came up with a model with an irr of 0.0188 and an nir of 189.45 on the test set.\n",
      "\n",
      " How did you do?\n"
     ]
    },
    {
     "data": {
      "text/plain": [
       "(0.009593158278250108, -1132.1999999999998)"
      ]
     },
     "execution_count": 17,
     "metadata": {},
     "output_type": "execute_result"
    }
   ],
   "source": [
    "# Defining function to test promotion to all the clients:\n",
    "def promotion_strategy_all(df):\n",
    "    '''\n",
    "    INPUT \n",
    "    df - a dataframe with *only* the columns V1 - V7 (same as train_data)\n",
    "\n",
    "    OUTPUT\n",
    "    promotion_df - np.array with the values\n",
    "                   'Yes' or 'No' related to whether or not an \n",
    "                   individual should recieve a promotion \n",
    "                   should be the length of df.shape[0]\n",
    "                \n",
    "    Ex:\n",
    "    INPUT: df\n",
    "    \n",
    "    V1\tV2\t  V3\tV4\tV5\tV6\tV7\n",
    "    2\t30\t-1.1\t1\t1\t3\t2\n",
    "    3\t32\t-0.6\t2\t3\t2\t2\n",
    "    2\t30\t0.13\t1\t1\t4\t2\n",
    "    \n",
    "    OUTPUT: promotion\n",
    "    \n",
    "    array(['Yes', 'Yes', 'No'])\n",
    "    indicating the first two users would recieve the promotion and \n",
    "    the last should not.\n",
    "    '''\n",
    "    prom_list = ['Yes' for i in range(df.shape[0])]\n",
    "    \n",
    "    promotion = np.array(prom_list)\n",
    "    \n",
    "    return promotion\n",
    "\n",
    "# Testing IRR and NIR for this strategy:\n",
    "test_results(promotion_strategy_all)"
   ]
  },
  {
   "cell_type": "markdown",
   "metadata": {},
   "source": [
    "<p>\n",
    "    As expected, the strategy of sending the promotion to all the clients does not optimize <i>Incremental Response Rate</i> nor <i>Net Incremented Revenue</i>.\n",
    "</p>"
   ]
  },
  {
   "cell_type": "markdown",
   "metadata": {},
   "source": [
    "<h3>Approach 2 - Client Segmentation Using Individual Correlation</h3>"
   ]
  },
  {
   "cell_type": "code",
   "execution_count": 18,
   "metadata": {
    "scrolled": true
   },
   "outputs": [
    {
     "name": "stdout",
     "output_type": "stream",
     "text": [
      "Nice job!  See how well your strategy worked on our test data below!\n",
      "\n",
      "Your irr with this strategy is 0.0119.\n",
      "\n",
      "Your nir with this strategy is -531.40.\n",
      "We came up with a model with an irr of 0.0188 and an nir of 189.45 on the test set.\n",
      "\n",
      " How did you do?\n"
     ]
    },
    {
     "data": {
      "text/plain": [
       "(0.01191694716124083, -531.4000000000001)"
      ]
     },
     "execution_count": 18,
     "metadata": {},
     "output_type": "execute_result"
    }
   ],
   "source": [
    "# Defining function using Correlation for client segmentation:\n",
    "def promotion_strategy_corr(df):\n",
    "    '''\n",
    "    INPUT \n",
    "    df - a dataframe with *only* the columns V1 - V7 (same as train_data)\n",
    "\n",
    "    OUTPUT\n",
    "    promotion_df - np.array with the values\n",
    "                   'Yes' or 'No' related to whether or not an \n",
    "                   individual should recieve a promotion \n",
    "                   should be the length of df.shape[0]\n",
    "                \n",
    "    Ex:\n",
    "    INPUT: df\n",
    "    \n",
    "    V1\tV2\t  V3\tV4\tV5\tV6\tV7\n",
    "    2\t30\t-1.1\t1\t1\t3\t2\n",
    "    3\t32\t-0.6\t2\t3\t2\t2\n",
    "    2\t30\t0.13\t1\t1\t4\t2\n",
    "    \n",
    "    OUTPUT: promotion\n",
    "    \n",
    "    array(['Yes', 'Yes', 'No'])\n",
    "    indicating the first two users would recieve the promotion and \n",
    "    the last should not.\n",
    "    '''\n",
    "    prom_list = ['Yes' if (df.V4.iloc[i] == 2) | (df.V5.iloc[i] >= 3) else 'No' for i in range(df.shape[0])]\n",
    "    \n",
    "    promotion = np.array(prom_list)\n",
    "    \n",
    "    return promotion\n",
    "\n",
    "# Testing IRR and NIR for this strategy:\n",
    "test_results(promotion_strategy_corr)"
   ]
  },
  {
   "cell_type": "markdown",
   "metadata": {},
   "source": [
    "<p>\n",
    "    In comparison to the first approach, this simple client segmentation based on individual feature correlation already showed some advances. Still, we need to test approaches that consider the incremental contribution of each one of the features acting together.\n",
    "</p>"
   ]
  },
  {
   "cell_type": "markdown",
   "metadata": {},
   "source": [
    "<h2>Testing Different Approaches</h2>\n",
    "<h3>Approach 3 - Logistic Regression</h3>\n",
    "<p>\n",
    "    In this approach, we are going to train a logistic regression model to predict whether or not a client should be sent the promotion: we are only using the experimental group, considering the ones who made the purchase as the group that should recieve the promotion.\n",
    "</p>"
   ]
  },
  {
   "cell_type": "code",
   "execution_count": 19,
   "metadata": {},
   "outputs": [
    {
     "name": "stdout",
     "output_type": "stream",
     "text": [
      "0    41643\n",
      "1    41643\n",
      "Name: purchase, dtype: int64\n"
     ]
    },
    {
     "data": {
      "text/plain": [
       "GridSearchCV(estimator=LogisticRegression(),\n",
       "             param_grid={'C': [1, 10, 100], 'penalty': ['l1', 'l2']})"
      ]
     },
     "execution_count": 19,
     "metadata": {},
     "output_type": "execute_result"
    }
   ],
   "source": [
    "# Selecting training set:\n",
    "X = experimental[features]\n",
    "y = experimental['purchase']\n",
    "\n",
    "# Balancing train set with SMOTE:\n",
    "smotenc = SMOTENC(categorical_features = [0, 3, 4, 5, 6], random_state = 101)\n",
    "X_bal, y_bal = smotenc.fit_sample(X, y)\n",
    "print(y_bal.value_counts())\n",
    "\n",
    "# Training Logistic Regression model, using GridSearchCV for best parameters:\n",
    "lr = LogisticRegression()\n",
    "param = {'penalty': ['l1', 'l2'], \n",
    "         'C': [1, 10, 100]}\n",
    "log_r_cv = GridSearchCV(lr, param_grid = param)\n",
    "log_r_cv.fit(X_bal, y_bal)"
   ]
  },
  {
   "cell_type": "code",
   "execution_count": 20,
   "metadata": {},
   "outputs": [
    {
     "name": "stdout",
     "output_type": "stream",
     "text": [
      "Nice job!  See how well your strategy worked on our test data below!\n",
      "\n",
      "Your irr with this strategy is 0.0145.\n",
      "\n",
      "Your nir with this strategy is -72.55.\n",
      "We came up with a model with an irr of 0.0188 and an nir of 189.45 on the test set.\n",
      "\n",
      " How did you do?\n"
     ]
    },
    {
     "data": {
      "text/plain": [
       "(0.014468322486757366, -72.54999999999995)"
      ]
     },
     "execution_count": 20,
     "metadata": {},
     "output_type": "execute_result"
    }
   ],
   "source": [
    "# Defining function using Logistic Regression for client segmentation:\n",
    "def promotion_strategy_log(df):\n",
    "    '''\n",
    "    INPUT \n",
    "    df - a dataframe with *only* the columns V1 - V7 (same as train_data)\n",
    "\n",
    "    OUTPUT\n",
    "    promotion_df - np.array with the values\n",
    "                   'Yes' or 'No' related to whether or not an \n",
    "                   individual should recieve a promotion \n",
    "                   should be the length of df.shape[0]\n",
    "                \n",
    "    Ex:\n",
    "    INPUT: df\n",
    "    \n",
    "    V1\tV2\t  V3\tV4\tV5\tV6\tV7\n",
    "    2\t30\t-1.1\t1\t1\t3\t2\n",
    "    3\t32\t-0.6\t2\t3\t2\t2\n",
    "    2\t30\t0.13\t1\t1\t4\t2\n",
    "    \n",
    "    OUTPUT: promotion\n",
    "    \n",
    "    array(['Yes', 'Yes', 'No'])\n",
    "    indicating the first two users would recieve the promotion and \n",
    "    the last should not.\n",
    "    '''\n",
    "    X_test = df[features]\n",
    "    y_pred = log_r_cv.predict(X_test)\n",
    "    prom_list = ['Yes' if y_pred[i] == 1 else 'No' for i in range(len(y_pred))]\n",
    "    \n",
    "    promotion = np.array(prom_list)\n",
    "    \n",
    "    return promotion\n",
    "\n",
    "# Testing IRR and NIR for this strategy:\n",
    "test_results(promotion_strategy_log)"
   ]
  },
  {
   "cell_type": "markdown",
   "metadata": {},
   "source": [
    "<p>\n",
    "    <b>Logistic Regression</b> improved our previous correlation approach, but it's not a good model yet.\n",
    "</p>\n",
    "<p>\n",
    "    Let's check for most important features using Decision Tree algorithm:\n",
    "</p>"
   ]
  },
  {
   "cell_type": "code",
   "execution_count": 21,
   "metadata": {},
   "outputs": [
    {
     "name": "stdout",
     "output_type": "stream",
     "text": [
      "V3 0.52\n",
      "V2 0.2\n",
      "V4 0.09\n",
      "V5 0.07\n",
      "V6 0.05\n",
      "V1 0.04\n",
      "V7 0.03\n"
     ]
    }
   ],
   "source": [
    "# Training Decision Tree Classifier to check for most important features:\n",
    "tree = DecisionTreeClassifier(random_state = 101)\n",
    "tree.fit(X_bal, y_bal)\n",
    "\n",
    "# Checking feature importance\n",
    "feature_imp = tree.feature_importances_\n",
    "for i, value in zip(np.argsort(-feature_imp), -np.sort(-feature_imp)):\n",
    "    print(features[i], round(value, 2))"
   ]
  },
  {
   "cell_type": "markdown",
   "metadata": {},
   "source": [
    "<p>\n",
    "    Next step, let's try the same Logistic Regression approach, this time selecting only the 4 most important variables to see if it improves the model:\n",
    "</p>"
   ]
  },
  {
   "cell_type": "code",
   "execution_count": 22,
   "metadata": {},
   "outputs": [
    {
     "name": "stdout",
     "output_type": "stream",
     "text": [
      "0    41643\n",
      "1    41643\n",
      "Name: purchase, dtype: int64\n"
     ]
    },
    {
     "data": {
      "text/plain": [
       "GridSearchCV(estimator=LogisticRegression(),\n",
       "             param_grid={'C': [1, 10, 100], 'penalty': ['l1', 'l2']})"
      ]
     },
     "execution_count": 22,
     "metadata": {},
     "output_type": "execute_result"
    }
   ],
   "source": [
    "# Selecting training set:\n",
    "features_imp = ['V2', 'V3', 'V4', 'V5']\n",
    "X_imp = experimental[features_imp]\n",
    "y_imp = experimental['purchase']\n",
    "\n",
    "# Balancing train set with SMOTE:\n",
    "smotenc_imp = SMOTENC(categorical_features = [2, 3], random_state = 201)\n",
    "X_ibal, y_ibal = smotenc_imp.fit_sample(X_imp, y_imp)\n",
    "print(y_ibal.value_counts())\n",
    "\n",
    "# Training Logistic Regression model, using GridSearchCV for best parameters:\n",
    "log_r_cv_imp = GridSearchCV(lr, param_grid = param)\n",
    "log_r_cv_imp.fit(X_ibal, y_ibal)"
   ]
  },
  {
   "cell_type": "code",
   "execution_count": 23,
   "metadata": {},
   "outputs": [
    {
     "name": "stdout",
     "output_type": "stream",
     "text": [
      "Nice job!  See how well your strategy worked on our test data below!\n",
      "\n",
      "Your irr with this strategy is 0.0147.\n",
      "\n",
      "Your nir with this strategy is -39.60.\n",
      "We came up with a model with an irr of 0.0188 and an nir of 189.45 on the test set.\n",
      "\n",
      " How did you do?\n"
     ]
    },
    {
     "data": {
      "text/plain": [
       "(0.0147094528569421, -39.59999999999991)"
      ]
     },
     "execution_count": 23,
     "metadata": {},
     "output_type": "execute_result"
    }
   ],
   "source": [
    "def promotion_strategy_log_imp(df):\n",
    "    '''\n",
    "    INPUT \n",
    "    df - a dataframe with *only* the columns V1 - V7 (same as train_data)\n",
    "\n",
    "    OUTPUT\n",
    "    promotion_df - np.array with the values\n",
    "                   'Yes' or 'No' related to whether or not an \n",
    "                   individual should recieve a promotion \n",
    "                   should be the length of df.shape[0]\n",
    "                \n",
    "    Ex:\n",
    "    INPUT: df\n",
    "    \n",
    "    V1\tV2\t  V3\tV4\tV5\tV6\tV7\n",
    "    2\t30\t-1.1\t1\t1\t3\t2\n",
    "    3\t32\t-0.6\t2\t3\t2\t2\n",
    "    2\t30\t0.13\t1\t1\t4\t2\n",
    "    \n",
    "    OUTPUT: promotion\n",
    "    \n",
    "    array(['Yes', 'Yes', 'No'])\n",
    "    indicating the first two users would recieve the promotion and \n",
    "    the last should not.\n",
    "    '''\n",
    "    X_test = df[features_imp]\n",
    "    y_pred = log_r_cv_imp.predict(X_test)\n",
    "    prom_list = ['Yes' if y_pred[i] == 1 else 'No' for i in range(len(y_pred))]\n",
    "    \n",
    "    promotion = np.array(prom_list)\n",
    "    \n",
    "    return promotion\n",
    "\n",
    "# Testing IRR and NIR for this strategy:\n",
    "test_results(promotion_strategy_log_imp)"
   ]
  },
  {
   "cell_type": "markdown",
   "metadata": {},
   "source": [
    "<p>\n",
    "    Feature selection did improve the model, however, we couldn't achieve our purposes yet.\n",
    "</p>"
   ]
  },
  {
   "cell_type": "markdown",
   "metadata": {},
   "source": [
    "<h3>Approach 4 - XGBoost Classifier</h3>\n",
    "<h4>Basic Approach</h4>\n",
    "<p>\n",
    "    Up until now, we have trained the models using only our experimental group. In this fourth approach, let's try one kind of one-versus-rest classification.\n",
    "</p>\n",
    "<p>\n",
    "    In this attempt, let's consider that only the ones who recieved the promotion and purchased the product build the features' composition of those who should recieve the promotion. All the other clients represent the profile that should not recieve the promotion:\n",
    "</p>"
   ]
  },
  {
   "cell_type": "code",
   "execution_count": 24,
   "metadata": {
    "scrolled": true
   },
   "outputs": [
    {
     "data": {
      "text/html": [
       "<div>\n",
       "<style scoped>\n",
       "    .dataframe tbody tr th:only-of-type {\n",
       "        vertical-align: middle;\n",
       "    }\n",
       "\n",
       "    .dataframe tbody tr th {\n",
       "        vertical-align: top;\n",
       "    }\n",
       "\n",
       "    .dataframe thead th {\n",
       "        text-align: right;\n",
       "    }\n",
       "</style>\n",
       "<table border=\"1\" class=\"dataframe\">\n",
       "  <thead>\n",
       "    <tr style=\"text-align: right;\">\n",
       "      <th></th>\n",
       "      <th>V1</th>\n",
       "      <th>V2</th>\n",
       "      <th>V3</th>\n",
       "      <th>V4</th>\n",
       "      <th>V5</th>\n",
       "      <th>V6</th>\n",
       "      <th>V7</th>\n",
       "      <th>send_prom</th>\n",
       "    </tr>\n",
       "  </thead>\n",
       "  <tbody>\n",
       "    <tr>\n",
       "      <th>0</th>\n",
       "      <td>2</td>\n",
       "      <td>30.443518</td>\n",
       "      <td>-1.165083</td>\n",
       "      <td>1</td>\n",
       "      <td>1</td>\n",
       "      <td>3</td>\n",
       "      <td>2</td>\n",
       "      <td>0</td>\n",
       "    </tr>\n",
       "    <tr>\n",
       "      <th>1</th>\n",
       "      <td>3</td>\n",
       "      <td>32.159350</td>\n",
       "      <td>-0.645617</td>\n",
       "      <td>2</td>\n",
       "      <td>3</td>\n",
       "      <td>2</td>\n",
       "      <td>2</td>\n",
       "      <td>0</td>\n",
       "    </tr>\n",
       "    <tr>\n",
       "      <th>2</th>\n",
       "      <td>2</td>\n",
       "      <td>30.431659</td>\n",
       "      <td>0.133583</td>\n",
       "      <td>1</td>\n",
       "      <td>1</td>\n",
       "      <td>4</td>\n",
       "      <td>2</td>\n",
       "      <td>0</td>\n",
       "    </tr>\n",
       "    <tr>\n",
       "      <th>3</th>\n",
       "      <td>0</td>\n",
       "      <td>26.588914</td>\n",
       "      <td>-0.212728</td>\n",
       "      <td>2</td>\n",
       "      <td>1</td>\n",
       "      <td>4</td>\n",
       "      <td>2</td>\n",
       "      <td>0</td>\n",
       "    </tr>\n",
       "    <tr>\n",
       "      <th>4</th>\n",
       "      <td>3</td>\n",
       "      <td>28.044331</td>\n",
       "      <td>-0.385883</td>\n",
       "      <td>1</td>\n",
       "      <td>1</td>\n",
       "      <td>2</td>\n",
       "      <td>2</td>\n",
       "      <td>0</td>\n",
       "    </tr>\n",
       "  </tbody>\n",
       "</table>\n",
       "</div>"
      ],
      "text/plain": [
       "   V1         V2        V3  V4  V5  V6  V7  send_prom\n",
       "0   2  30.443518 -1.165083   1   1   3   2          0\n",
       "1   3  32.159350 -0.645617   2   3   2   2          0\n",
       "2   2  30.431659  0.133583   1   1   4   2          0\n",
       "3   0  26.588914 -0.212728   2   1   4   2          0\n",
       "4   3  28.044331 -0.385883   1   1   2   2          0"
      ]
     },
     "execution_count": 24,
     "metadata": {},
     "output_type": "execute_result"
    }
   ],
   "source": [
    "# Selecting training set:\n",
    "data_xgb = train_data[features]\n",
    "\n",
    "# Transforming labels:\n",
    "data_xgb['send_prom'] = [1 if (train_data.Promotion.iloc[i] == 'Yes') & (train_data.purchase.iloc[i] == 1) else 0 \\\n",
    "                         for i in range(train_data.shape[0])]\n",
    "data_xgb.head()"
   ]
  },
  {
   "cell_type": "code",
   "execution_count": 25,
   "metadata": {
    "scrolled": true
   },
   "outputs": [
    {
     "name": "stdout",
     "output_type": "stream",
     "text": [
      "0    83813\n",
      "1    83813\n",
      "Name: send_prom, dtype: int64\n"
     ]
    },
    {
     "data": {
      "text/plain": [
       "GridSearchCV(estimator=XGBClassifier(base_score=None, booster=None,\n",
       "                                     colsample_bylevel=None,\n",
       "                                     colsample_bynode=None,\n",
       "                                     colsample_bytree=None, gamma=None,\n",
       "                                     gpu_id=None, importance_type='gain',\n",
       "                                     interaction_constraints=None,\n",
       "                                     learning_rate=None, max_delta_step=None,\n",
       "                                     max_depth=None, min_child_weight=None,\n",
       "                                     missing=nan, monotone_constraints=None,\n",
       "                                     n_estimators=100, n_jobs=None,\n",
       "                                     num_parallel_tree=None, random_state=None,\n",
       "                                     reg_alpha=None, reg_lambda=None,\n",
       "                                     scale_pos_weight=None, seed=301,\n",
       "                                     subsample=None, tree_method=None,\n",
       "                                     validate_parameters=None, verbosity=0),\n",
       "             param_grid={'gamma': [0.1, 3, 5], 'learning_rate': [0.1, 0.3],\n",
       "                         'max_depth': [5, 7], 'min_child_weight': [1, 5],\n",
       "                         'reg_lambda': [1, 5]},\n",
       "             scoring='roc_auc')"
      ]
     },
     "execution_count": 25,
     "metadata": {},
     "output_type": "execute_result"
    }
   ],
   "source": [
    "# Applying SMOTE:\n",
    "smotenc_xgb = SMOTENC(categorical_features = [0, 3, 4, 5, 6], random_state = 301)\n",
    "X_xgb, y_xgb = smotenc_xgb.fit_sample(data_xgb[features], data_xgb['send_prom'])\n",
    "print(y_xgb.value_counts())\n",
    "\n",
    "# Training XGBClassifier model:\n",
    "xgb = XGBClassifier(objective = 'binary:logistic', seed = 301, verbosity = 0)\n",
    "param_xgb = {'learning_rate': [0.1, 0.3], 'max_depth': [5, 7], \n",
    "             'min_child_weight': [1, 5], 'reg_lambda': [1, 5], 'gamma': [.1, 3, 5]}\n",
    "\n",
    "xgb_cl = GridSearchCV(xgb, param_grid = param_xgb, scoring = 'roc_auc')\n",
    "xgb_cl.fit(X_xgb, y_xgb)"
   ]
  },
  {
   "cell_type": "code",
   "execution_count": 26,
   "metadata": {},
   "outputs": [
    {
     "name": "stdout",
     "output_type": "stream",
     "text": [
      "Nice job!  See how well your strategy worked on our test data below!\n",
      "\n",
      "Your irr with this strategy is 0.0164.\n",
      "\n",
      "Your nir with this strategy is -1.10.\n",
      "We came up with a model with an irr of 0.0188 and an nir of 189.45 on the test set.\n",
      "\n",
      " How did you do?\n"
     ]
    },
    {
     "data": {
      "text/plain": [
       "(0.016444154998371867, -1.1000000000000014)"
      ]
     },
     "execution_count": 26,
     "metadata": {},
     "output_type": "execute_result"
    }
   ],
   "source": [
    "# Defining function using XGBClassifier for client segmentation:\n",
    "def promotion_strategy_xgb(df):\n",
    "    '''\n",
    "    INPUT \n",
    "    df - a dataframe with *only* the columns V1 - V7 (same as train_data)\n",
    "\n",
    "    OUTPUT\n",
    "    promotion_df - np.array with the values\n",
    "                   'Yes' or 'No' related to whether or not an \n",
    "                   individual should recieve a promotion \n",
    "                   should be the length of df.shape[0]\n",
    "                \n",
    "    Ex:\n",
    "    INPUT: df\n",
    "    \n",
    "    V1\tV2\t  V3\tV4\tV5\tV6\tV7\n",
    "    2\t30\t-1.1\t1\t1\t3\t2\n",
    "    3\t32\t-0.6\t2\t3\t2\t2\n",
    "    2\t30\t0.13\t1\t1\t4\t2\n",
    "    \n",
    "    OUTPUT: promotion\n",
    "    \n",
    "    array(['Yes', 'Yes', 'No'])\n",
    "    indicating the first two users would recieve the promotion and \n",
    "    the last should not.\n",
    "    '''\n",
    "    X_test = df[features]\n",
    "    y_pred = xgb_cl.predict(X_test)\n",
    "    prom_list = ['Yes' if y_pred[i] == 1 else 'No' for i in range(len(y_pred))]\n",
    "    \n",
    "    promotion = np.array(prom_list)\n",
    "    \n",
    "    return promotion\n",
    "\n",
    "# Testing IRR and NIR for this strategy:\n",
    "test_results(promotion_strategy_xgb)"
   ]
  },
  {
   "cell_type": "markdown",
   "metadata": {},
   "source": [
    "<p>\n",
    "    <b>XGBoost Classifier</b> improved our <i>IRR</i> and <i>NIR</i> metrics, but the last one still needs improvement.\n",
    "</p>\n",
    "<h4>Manipulating Features - Approach 1</h4>\n",
    "<p>\n",
    "    In the next trial, let's transform the continuous numeric variables into classes distributed as observerd during the histogram analysis to see if it improves the generalization. Once again, let's use only the experimental group:\n",
    "</p>"
   ]
  },
  {
   "cell_type": "code",
   "execution_count": 27,
   "metadata": {},
   "outputs": [
    {
     "data": {
      "text/html": [
       "<div>\n",
       "<style scoped>\n",
       "    .dataframe tbody tr th:only-of-type {\n",
       "        vertical-align: middle;\n",
       "    }\n",
       "\n",
       "    .dataframe tbody tr th {\n",
       "        vertical-align: top;\n",
       "    }\n",
       "\n",
       "    .dataframe thead th {\n",
       "        text-align: right;\n",
       "    }\n",
       "</style>\n",
       "<table border=\"1\" class=\"dataframe\">\n",
       "  <thead>\n",
       "    <tr style=\"text-align: right;\">\n",
       "      <th></th>\n",
       "      <th>V1</th>\n",
       "      <th>V2</th>\n",
       "      <th>V3</th>\n",
       "      <th>V4</th>\n",
       "      <th>V5</th>\n",
       "      <th>V6</th>\n",
       "      <th>V7</th>\n",
       "      <th>purchase</th>\n",
       "    </tr>\n",
       "  </thead>\n",
       "  <tbody>\n",
       "    <tr>\n",
       "      <th>4</th>\n",
       "      <td>3</td>\n",
       "      <td>2</td>\n",
       "      <td>3</td>\n",
       "      <td>1</td>\n",
       "      <td>1</td>\n",
       "      <td>2</td>\n",
       "      <td>2</td>\n",
       "      <td>0</td>\n",
       "    </tr>\n",
       "    <tr>\n",
       "      <th>8</th>\n",
       "      <td>2</td>\n",
       "      <td>3</td>\n",
       "      <td>2</td>\n",
       "      <td>2</td>\n",
       "      <td>3</td>\n",
       "      <td>1</td>\n",
       "      <td>2</td>\n",
       "      <td>0</td>\n",
       "    </tr>\n",
       "    <tr>\n",
       "      <th>10</th>\n",
       "      <td>1</td>\n",
       "      <td>3</td>\n",
       "      <td>5</td>\n",
       "      <td>2</td>\n",
       "      <td>1</td>\n",
       "      <td>4</td>\n",
       "      <td>1</td>\n",
       "      <td>0</td>\n",
       "    </tr>\n",
       "    <tr>\n",
       "      <th>12</th>\n",
       "      <td>1</td>\n",
       "      <td>4</td>\n",
       "      <td>2</td>\n",
       "      <td>2</td>\n",
       "      <td>3</td>\n",
       "      <td>1</td>\n",
       "      <td>1</td>\n",
       "      <td>0</td>\n",
       "    </tr>\n",
       "    <tr>\n",
       "      <th>14</th>\n",
       "      <td>3</td>\n",
       "      <td>4</td>\n",
       "      <td>4</td>\n",
       "      <td>2</td>\n",
       "      <td>2</td>\n",
       "      <td>4</td>\n",
       "      <td>1</td>\n",
       "      <td>0</td>\n",
       "    </tr>\n",
       "  </tbody>\n",
       "</table>\n",
       "</div>"
      ],
      "text/plain": [
       "    V1  V2  V3  V4  V5  V6  V7  purchase\n",
       "4    3   2   3   1   1   2   2         0\n",
       "8    2   3   2   2   3   1   2         0\n",
       "10   1   3   5   2   1   4   1         0\n",
       "12   1   4   2   2   3   1   1         0\n",
       "14   3   4   4   2   2   4   1         0"
      ]
     },
     "execution_count": 27,
     "metadata": {},
     "output_type": "execute_result"
    }
   ],
   "source": [
    "# Selecting data and applying transformations:\n",
    "data_xgb2 = experimental[sel_features]\n",
    "# Transforming V2 and V3:\n",
    "V2_cat = [0 if ((data_xgb2.V2.iloc[i] < 20) | (data_xgb2.V2.iloc[i] > 40)) \\\n",
    "          else 1 if (20 <= data_xgb2.V2.iloc[i] < 25) \\\n",
    "          else 2 if (25 <= data_xgb2.V2.iloc[i] < 30) \\\n",
    "          else 3 if (30 <= data_xgb2.V2.iloc[i] < 35) \\\n",
    "          else 4 for i in range(data_xgb2.shape[0])]\n",
    "data_xgb2['V2'] = V2_cat\n",
    "V3_cat = [5 if (data_xgb2.V3.iloc[i] <= -1) \\\n",
    "          else 4 if (-1 < data_xgb2.V3.iloc[i] <= -0.5) \\\n",
    "          else 3 if (-0.5 < data_xgb2.V3.iloc[i] <= 0) \\\n",
    "          else 2 if (0 < data_xgb2.V3.iloc[i] <= 0.5) \\\n",
    "          else 1 if (0.5 < data_xgb2.V3.iloc[i] <= 1) \\\n",
    "          else 0 for i in range(data_xgb2.shape[0])]\n",
    "data_xgb2['V3'] = V3_cat\n",
    "data_xgb2.head()"
   ]
  },
  {
   "cell_type": "code",
   "execution_count": 28,
   "metadata": {},
   "outputs": [
    {
     "name": "stdout",
     "output_type": "stream",
     "text": [
      "0    41643\n",
      "1    41643\n",
      "Name: purchase, dtype: int64\n"
     ]
    },
    {
     "data": {
      "text/plain": [
       "GridSearchCV(estimator=XGBClassifier(base_score=None, booster=None,\n",
       "                                     colsample_bylevel=None,\n",
       "                                     colsample_bynode=None,\n",
       "                                     colsample_bytree=None, gamma=None,\n",
       "                                     gpu_id=None, importance_type='gain',\n",
       "                                     interaction_constraints=None,\n",
       "                                     learning_rate=None, max_delta_step=None,\n",
       "                                     max_depth=None, min_child_weight=None,\n",
       "                                     missing=nan, monotone_constraints=None,\n",
       "                                     n_estimators=100, n_jobs=None,\n",
       "                                     num_parallel_tree=None, random_state=None,\n",
       "                                     reg_alpha=None, reg_lambda=None,\n",
       "                                     scale_pos_weight=None, seed=1001,\n",
       "                                     subsample=None, tree_method=None,\n",
       "                                     validate_parameters=None, verbosity=0),\n",
       "             param_grid={'gamma': [0.1, 3, 5], 'learning_rate': [0.1, 0.3],\n",
       "                         'max_depth': [3, 5], 'min_child_weight': [1, 5],\n",
       "                         'reg_lambda': [1, 5]},\n",
       "             scoring='roc_auc')"
      ]
     },
     "execution_count": 28,
     "metadata": {},
     "output_type": "execute_result"
    }
   ],
   "source": [
    "# Applying SMOTE:\n",
    "smote_xgb2 = SMOTE(random_state = 1001)\n",
    "X_xgb2, y_xgb2 = smote_xgb2.fit_sample(data_xgb2[features], data_xgb2['purchase'])\n",
    "print(y_xgb2.value_counts())\n",
    "\n",
    "# Training XGBClassifier model:\n",
    "xgb = XGBClassifier(objective = 'binary:logistic', seed = 1001, verbosity = 0)\n",
    "param_xgb = {'learning_rate': [0.1, 0.3], 'max_depth': [3, 5], \n",
    "             'min_child_weight': [1, 5], 'reg_lambda': [1, 5], 'gamma': [.1, 3, 5]}\n",
    "\n",
    "xgb_cl2 = GridSearchCV(xgb, param_grid = param_xgb, scoring = 'roc_auc')\n",
    "xgb_cl2.fit(X_xgb2, y_xgb2)"
   ]
  },
  {
   "cell_type": "code",
   "execution_count": 29,
   "metadata": {
    "scrolled": true
   },
   "outputs": [
    {
     "name": "stdout",
     "output_type": "stream",
     "text": [
      "Nice job!  See how well your strategy worked on our test data below!\n",
      "\n",
      "Your irr with this strategy is 0.0178.\n",
      "\n",
      "Your nir with this strategy is 153.70.\n",
      "We came up with a model with an irr of 0.0188 and an nir of 189.45 on the test set.\n",
      "\n",
      " How did you do?\n"
     ]
    },
    {
     "data": {
      "text/plain": [
       "(0.017830221770241402, 153.70000000000005)"
      ]
     },
     "execution_count": 29,
     "metadata": {},
     "output_type": "execute_result"
    }
   ],
   "source": [
    "# Defining function using XGBClassifier for client segmentation:\n",
    "def promotion_strategy_xgb2(df):\n",
    "    '''\n",
    "    INPUT \n",
    "    df - a dataframe with *only* the columns V1 - V7 (same as train_data)\n",
    "\n",
    "    OUTPUT\n",
    "    promotion_df - np.array with the values\n",
    "                   'Yes' or 'No' related to whether or not an \n",
    "                   individual should recieve a promotion \n",
    "                   should be the length of df.shape[0]\n",
    "                \n",
    "    Ex:\n",
    "    INPUT: df\n",
    "    \n",
    "    V1\tV2\t  V3\tV4\tV5\tV6\tV7\n",
    "    2\t30\t-1.1\t1\t1\t3\t2\n",
    "    3\t32\t-0.6\t2\t3\t2\t2\n",
    "    2\t30\t0.13\t1\t1\t4\t2\n",
    "    \n",
    "    OUTPUT: promotion\n",
    "    \n",
    "    array(['Yes', 'Yes', 'No'])\n",
    "    indicating the first two users would recieve the promotion and \n",
    "    the last should not.\n",
    "    '''\n",
    "    X_test = df[features]\n",
    "    V2_cat = [0 if ((X_test.V2.iloc[i] < 20) | (X_test.V2.iloc[i] > 40)) \\\n",
    "              else 1 if (20 <= X_test.V2.iloc[i] < 25) \\\n",
    "              else 2 if (25 <= X_test.V2.iloc[i] < 30) \\\n",
    "              else 3 if (30 <= X_test.V2.iloc[i] < 35) \\\n",
    "              else 4 for i in range(X_test.shape[0])]\n",
    "    X_test['V2'] = V2_cat\n",
    "    V3_cat = [5 if (X_test.V3.iloc[i] <= -1) \\\n",
    "              else 4 if (-1 < X_test.V3.iloc[i] <= -0.5) \\\n",
    "              else 3 if (-0.5 < X_test.V3.iloc[i] <= 0) \\\n",
    "              else 2 if (0 < X_test.V3.iloc[i] <= 0.5) \\\n",
    "              else 1 if (0.5 < X_test.V3.iloc[i] <= 1) \\\n",
    "              else 0 for i in range(X_test.shape[0])]\n",
    "    X_test['V3'] = V3_cat\n",
    "    y_pred = xgb_cl2.predict(X_test)\n",
    "    prom_list = ['Yes' if y_pred[i] == 1 else 'No' for i in range(len(y_pred))]\n",
    "    \n",
    "    promotion = np.array(prom_list)\n",
    "    \n",
    "    return promotion\n",
    "\n",
    "# Testing IRR and NIR for this strategy:\n",
    "test_results(promotion_strategy_xgb2)"
   ]
  },
  {
   "cell_type": "markdown",
   "metadata": {},
   "source": [
    "<p>\n",
    "    We can see that this strategy did optimize our metrics, not as good as Starbucks itself, but still a significant improvement.\n",
    "</p>\n",
    "<p>\n",
    "    Our understanding of the behavior of the features during the exploratory analysis was fundamental to elaborate this strategy. We are going to keep this same approach, now generalizing a little bit more the classes we created before.\n",
    "</p>\n",
    "<h4>Manipulating Features - Approach 2</h4>\n",
    "<p>\n",
    "    Considering the V2 feature distribution, it looks like there is a similar response to the promotion along with its values with slight differences. Still, the largest proportion of clients is situated around the mean value - like a traditional Gaussian distribution. With that in mind, let's try to focus on the greatest public 'cutting off' the tails in one single group.\n",
    "</p>\n",
    "<p>\n",
    "    At the same time, we are simplifying V3 classes as an attempt to make them more generalistic:\n",
    "</p>"
   ]
  },
  {
   "cell_type": "code",
   "execution_count": 30,
   "metadata": {},
   "outputs": [
    {
     "data": {
      "text/html": [
       "<div>\n",
       "<style scoped>\n",
       "    .dataframe tbody tr th:only-of-type {\n",
       "        vertical-align: middle;\n",
       "    }\n",
       "\n",
       "    .dataframe tbody tr th {\n",
       "        vertical-align: top;\n",
       "    }\n",
       "\n",
       "    .dataframe thead th {\n",
       "        text-align: right;\n",
       "    }\n",
       "</style>\n",
       "<table border=\"1\" class=\"dataframe\">\n",
       "  <thead>\n",
       "    <tr style=\"text-align: right;\">\n",
       "      <th></th>\n",
       "      <th>V1</th>\n",
       "      <th>V2</th>\n",
       "      <th>V3</th>\n",
       "      <th>V4</th>\n",
       "      <th>V5</th>\n",
       "      <th>V6</th>\n",
       "      <th>V7</th>\n",
       "      <th>purchase</th>\n",
       "    </tr>\n",
       "  </thead>\n",
       "  <tbody>\n",
       "    <tr>\n",
       "      <th>4</th>\n",
       "      <td>3</td>\n",
       "      <td>1</td>\n",
       "      <td>1</td>\n",
       "      <td>1</td>\n",
       "      <td>1</td>\n",
       "      <td>2</td>\n",
       "      <td>2</td>\n",
       "      <td>0</td>\n",
       "    </tr>\n",
       "    <tr>\n",
       "      <th>8</th>\n",
       "      <td>2</td>\n",
       "      <td>1</td>\n",
       "      <td>0</td>\n",
       "      <td>2</td>\n",
       "      <td>3</td>\n",
       "      <td>1</td>\n",
       "      <td>2</td>\n",
       "      <td>0</td>\n",
       "    </tr>\n",
       "    <tr>\n",
       "      <th>10</th>\n",
       "      <td>1</td>\n",
       "      <td>1</td>\n",
       "      <td>2</td>\n",
       "      <td>2</td>\n",
       "      <td>1</td>\n",
       "      <td>4</td>\n",
       "      <td>1</td>\n",
       "      <td>0</td>\n",
       "    </tr>\n",
       "    <tr>\n",
       "      <th>12</th>\n",
       "      <td>1</td>\n",
       "      <td>1</td>\n",
       "      <td>0</td>\n",
       "      <td>2</td>\n",
       "      <td>3</td>\n",
       "      <td>1</td>\n",
       "      <td>1</td>\n",
       "      <td>0</td>\n",
       "    </tr>\n",
       "    <tr>\n",
       "      <th>14</th>\n",
       "      <td>3</td>\n",
       "      <td>1</td>\n",
       "      <td>1</td>\n",
       "      <td>2</td>\n",
       "      <td>2</td>\n",
       "      <td>4</td>\n",
       "      <td>1</td>\n",
       "      <td>0</td>\n",
       "    </tr>\n",
       "  </tbody>\n",
       "</table>\n",
       "</div>"
      ],
      "text/plain": [
       "    V1  V2  V3  V4  V5  V6  V7  purchase\n",
       "4    3   1   1   1   1   2   2         0\n",
       "8    2   1   0   2   3   1   2         0\n",
       "10   1   1   2   2   1   4   1         0\n",
       "12   1   1   0   2   3   1   1         0\n",
       "14   3   1   1   2   2   4   1         0"
      ]
     },
     "execution_count": 30,
     "metadata": {},
     "output_type": "execute_result"
    }
   ],
   "source": [
    "data_xgb3 = experimental[sel_features]\n",
    "data_xgb3['V2'] = [0 if ((data_xgb3.V2.iloc[i] < 15) | (data_xgb3.V2.iloc[i] > 45)) \\\n",
    "                   else 1 for i in range(data_xgb3.shape[0])] \n",
    "\n",
    "data_xgb3['V3'] = [-1 if (data_xgb3.V3.iloc[i] > 1) \\\n",
    "                   else 0 if (0 <= data_xgb3.V3.iloc[i] <= 1) \\\n",
    "                   else 1 if (-1 <= data_xgb3.V3.iloc[i] < 0) \\\n",
    "                   else 2 for i in range(data_xgb3.shape[0])] \n",
    "data_xgb3.head()"
   ]
  },
  {
   "cell_type": "code",
   "execution_count": 31,
   "metadata": {},
   "outputs": [
    {
     "name": "stdout",
     "output_type": "stream",
     "text": [
      "0    41643\n",
      "1    41643\n",
      "Name: purchase, dtype: int64\n"
     ]
    },
    {
     "data": {
      "text/plain": [
       "GridSearchCV(estimator=XGBClassifier(base_score=None, booster=None,\n",
       "                                     colsample_bylevel=None,\n",
       "                                     colsample_bynode=None,\n",
       "                                     colsample_bytree=None, gamma=None,\n",
       "                                     gpu_id=None, importance_type='gain',\n",
       "                                     interaction_constraints=None,\n",
       "                                     learning_rate=None, max_delta_step=None,\n",
       "                                     max_depth=None, min_child_weight=None,\n",
       "                                     missing=nan, monotone_constraints=None,\n",
       "                                     n_estimators=100, n_jobs=None,\n",
       "                                     num_parallel_tree=None, random_state=None,\n",
       "                                     reg_alpha=None, reg_lambda=None,\n",
       "                                     scale_pos_weight=None, seed=401,\n",
       "                                     subsample=None, tree_method=None,\n",
       "                                     validate_parameters=None, verbosity=0),\n",
       "             param_grid={'gamma': [0.1, 3, 5], 'learning_rate': [0.1, 0.3],\n",
       "                         'max_depth': [3, 5], 'min_child_weight': [1, 5],\n",
       "                         'reg_lambda': [1, 5]},\n",
       "             scoring='roc_auc')"
      ]
     },
     "execution_count": 31,
     "metadata": {},
     "output_type": "execute_result"
    }
   ],
   "source": [
    "# Applying SMOTE:\n",
    "smotenc_xgb3 = SMOTE(random_state = 401)\n",
    "X_xgb3, y_xgb3 = smotenc_xgb3.fit_sample(data_xgb3[features], data_xgb3['purchase'])\n",
    "print(y_xgb3.value_counts())\n",
    "\n",
    "# Training XGBClassifier model:\n",
    "xgb = XGBClassifier(objective = 'binary:logistic', seed = 401, verbosity = 0)\n",
    "param_xgb = {'learning_rate': [0.1, 0.3], 'max_depth': [3, 5], \n",
    "             'min_child_weight': [1, 5], 'reg_lambda': [1, 5], 'gamma': [.1, 3, 5]}\n",
    "\n",
    "xgb_cl3 = GridSearchCV(xgb, param_grid = param_xgb, scoring = 'roc_auc')\n",
    "xgb_cl3.fit(X_xgb3, y_xgb3)"
   ]
  },
  {
   "cell_type": "code",
   "execution_count": 32,
   "metadata": {},
   "outputs": [
    {
     "name": "stdout",
     "output_type": "stream",
     "text": [
      "Nice job!  See how well your strategy worked on our test data below!\n",
      "\n",
      "Your irr with this strategy is 0.0173.\n",
      "\n",
      "Your nir with this strategy is 154.00.\n",
      "We came up with a model with an irr of 0.0188 and an nir of 189.45 on the test set.\n",
      "\n",
      " How did you do?\n"
     ]
    },
    {
     "data": {
      "text/plain": [
       "(0.017338303174019454, 154.0)"
      ]
     },
     "execution_count": 32,
     "metadata": {},
     "output_type": "execute_result"
    }
   ],
   "source": [
    "# Defining function using XGBClassifier for client segmentation:\n",
    "def promotion_strategy_xgb3(df):\n",
    "    '''\n",
    "    INPUT \n",
    "    df - a dataframe with *only* the columns V1 - V7 (same as train_data)\n",
    "\n",
    "    OUTPUT\n",
    "    promotion_df - np.array with the values\n",
    "                   'Yes' or 'No' related to whether or not an \n",
    "                   individual should recieve a promotion \n",
    "                   should be the length of df.shape[0]\n",
    "                \n",
    "    Ex:\n",
    "    INPUT: df\n",
    "    \n",
    "    V1\tV2\t  V3\tV4\tV5\tV6\tV7\n",
    "    2\t30\t-1.1\t1\t1\t3\t2\n",
    "    3\t32\t-0.6\t2\t3\t2\t2\n",
    "    2\t30\t0.13\t1\t1\t4\t2\n",
    "    \n",
    "    OUTPUT: promotion\n",
    "    \n",
    "    array(['Yes', 'Yes', 'No'])\n",
    "    indicating the first two users would recieve the promotion and \n",
    "    the last should not.\n",
    "    '''\n",
    "    X_test = df[features]\n",
    "    X_test['V2'] = [0 if ((X_test.V2.iloc[i] < 15) | (X_test.V2.iloc[i] > 45)) \\\n",
    "                    else 2 for i in range(X_test.shape[0])]\n",
    "    X_test['V3'] = [-1 if (X_test.V3.iloc[i] > 1) \\\n",
    "                    else 0 if (0 <= X_test.V3.iloc[i] <= 1) \\\n",
    "                    else 1 if (-1 <= X_test.V3.iloc[i] < 0) \\\n",
    "                    else 2 for i in range(X_test.shape[0])]\n",
    "    y_pred = xgb_cl3.predict(X_test)\n",
    "    prom_list = ['Yes' if y_pred[i] == 1 else 'No' for i in range(len(y_pred))]\n",
    "    \n",
    "    promotion = np.array(prom_list)\n",
    "    \n",
    "    return promotion\n",
    "\n",
    "# Testing IRR and NIR for this strategy:\n",
    "test_results(promotion_strategy_xgb3)"
   ]
  },
  {
   "cell_type": "markdown",
   "metadata": {},
   "source": [
    "<p>\n",
    "    We can see that this more generalist strategy came up with similar results.\n",
    "</p>\n",
    "<h4>Manipulating Features - Approach 3</h4>\n",
    "<p>\n",
    "    As a next attempt, we are going to distinguish the classes not only by their distributions and importances, but the classes' values are going to represent some kind of <b>weight</b> according to their relevance when considering the ones who purchased the product in the experimental group:\n",
    "</p>"
   ]
  },
  {
   "cell_type": "code",
   "execution_count": 33,
   "metadata": {},
   "outputs": [
    {
     "data": {
      "text/html": [
       "<div>\n",
       "<style scoped>\n",
       "    .dataframe tbody tr th:only-of-type {\n",
       "        vertical-align: middle;\n",
       "    }\n",
       "\n",
       "    .dataframe tbody tr th {\n",
       "        vertical-align: top;\n",
       "    }\n",
       "\n",
       "    .dataframe thead th {\n",
       "        text-align: right;\n",
       "    }\n",
       "</style>\n",
       "<table border=\"1\" class=\"dataframe\">\n",
       "  <thead>\n",
       "    <tr style=\"text-align: right;\">\n",
       "      <th></th>\n",
       "      <th>V1</th>\n",
       "      <th>V2</th>\n",
       "      <th>V3</th>\n",
       "      <th>V4</th>\n",
       "      <th>V5</th>\n",
       "      <th>V6</th>\n",
       "      <th>V7</th>\n",
       "      <th>purchase</th>\n",
       "    </tr>\n",
       "  </thead>\n",
       "  <tbody>\n",
       "    <tr>\n",
       "      <th>4</th>\n",
       "      <td>3</td>\n",
       "      <td>2</td>\n",
       "      <td>1</td>\n",
       "      <td>1</td>\n",
       "      <td>1</td>\n",
       "      <td>2</td>\n",
       "      <td>2</td>\n",
       "      <td>0</td>\n",
       "    </tr>\n",
       "    <tr>\n",
       "      <th>8</th>\n",
       "      <td>2</td>\n",
       "      <td>2</td>\n",
       "      <td>-1</td>\n",
       "      <td>2</td>\n",
       "      <td>3</td>\n",
       "      <td>1</td>\n",
       "      <td>2</td>\n",
       "      <td>0</td>\n",
       "    </tr>\n",
       "    <tr>\n",
       "      <th>10</th>\n",
       "      <td>1</td>\n",
       "      <td>2</td>\n",
       "      <td>3</td>\n",
       "      <td>2</td>\n",
       "      <td>1</td>\n",
       "      <td>4</td>\n",
       "      <td>1</td>\n",
       "      <td>0</td>\n",
       "    </tr>\n",
       "    <tr>\n",
       "      <th>12</th>\n",
       "      <td>1</td>\n",
       "      <td>1</td>\n",
       "      <td>-1</td>\n",
       "      <td>2</td>\n",
       "      <td>3</td>\n",
       "      <td>1</td>\n",
       "      <td>1</td>\n",
       "      <td>0</td>\n",
       "    </tr>\n",
       "    <tr>\n",
       "      <th>14</th>\n",
       "      <td>3</td>\n",
       "      <td>1</td>\n",
       "      <td>2</td>\n",
       "      <td>2</td>\n",
       "      <td>2</td>\n",
       "      <td>4</td>\n",
       "      <td>1</td>\n",
       "      <td>0</td>\n",
       "    </tr>\n",
       "  </tbody>\n",
       "</table>\n",
       "</div>"
      ],
      "text/plain": [
       "    V1  V2  V3  V4  V5  V6  V7  purchase\n",
       "4    3   2   1   1   1   2   2         0\n",
       "8    2   2  -1   2   3   1   2         0\n",
       "10   1   2   3   2   1   4   1         0\n",
       "12   1   1  -1   2   3   1   1         0\n",
       "14   3   1   2   2   2   4   1         0"
      ]
     },
     "execution_count": 33,
     "metadata": {},
     "output_type": "execute_result"
    }
   ],
   "source": [
    "# Selecting data and applying transformations:\n",
    "data_xgb4 = experimental[sel_features]\n",
    "# Transforming V2 and V3:\n",
    "data_xgb4['V2'] = [0 if ((data_xgb4.V2.iloc[i] < 15) | (data_xgb4.V2.iloc[i] > 45)) \\\n",
    "                   else 1 if ((15 <= data_xgb4.V2.iloc[i] < 25) | (35 < data_xgb4.V2.iloc[i] <= 45)) \\\n",
    "                   else 2 for i in range(data_xgb4.shape[0])]\n",
    "\n",
    "data_xgb4['V3'] = [3 if (data_xgb4.V3.iloc[i] <= -1) \\\n",
    "                   else 2 if (-1 < data_xgb4.V3.iloc[i] <= -0.5) \\\n",
    "                   else 1 if (-0.5 < data_xgb4.V3.iloc[i] <= 0) \\\n",
    "                   else -1 if (0 < data_xgb4.V3.iloc[i] <= 0.5) \\\n",
    "                   else -2 if (0.5 < data_xgb4.V3.iloc[i] <= 1) \\\n",
    "                   else -3 for i in range(data_xgb4.shape[0])]\n",
    "data_xgb4.head()"
   ]
  },
  {
   "cell_type": "code",
   "execution_count": 34,
   "metadata": {},
   "outputs": [
    {
     "name": "stdout",
     "output_type": "stream",
     "text": [
      "0    41643\n",
      "1    41643\n",
      "Name: purchase, dtype: int64\n"
     ]
    },
    {
     "data": {
      "text/plain": [
       "GridSearchCV(estimator=XGBClassifier(base_score=None, booster=None,\n",
       "                                     colsample_bylevel=None,\n",
       "                                     colsample_bynode=None,\n",
       "                                     colsample_bytree=None, gamma=None,\n",
       "                                     gpu_id=None, importance_type='gain',\n",
       "                                     interaction_constraints=None,\n",
       "                                     learning_rate=None, max_delta_step=None,\n",
       "                                     max_depth=None, min_child_weight=None,\n",
       "                                     missing=nan, monotone_constraints=None,\n",
       "                                     n_estimators=100, n_jobs=None,\n",
       "                                     num_parallel_tree=None, random_state=None,\n",
       "                                     reg_alpha=None, reg_lambda=None,\n",
       "                                     scale_pos_weight=None, seed=1001,\n",
       "                                     subsample=None, tree_method=None,\n",
       "                                     validate_parameters=None, verbosity=0),\n",
       "             param_grid={'gamma': [0.1, 3, 5], 'learning_rate': [0.1, 0.3],\n",
       "                         'max_depth': [3, 5], 'min_child_weight': [1, 5],\n",
       "                         'reg_lambda': [1, 5]},\n",
       "             scoring='roc_auc')"
      ]
     },
     "execution_count": 34,
     "metadata": {},
     "output_type": "execute_result"
    }
   ],
   "source": [
    "# Applying SMOTE:\n",
    "smote_xgb4 = SMOTE(random_state = 1001)\n",
    "X_xgb4, y_xgb4 = smote_xgb4.fit_sample(data_xgb4[features], data_xgb4['purchase'])\n",
    "print(y_xgb4.value_counts())\n",
    "\n",
    "# Training XGBClassifier model:\n",
    "xgb = XGBClassifier(objective = 'binary:logistic', seed = 1001, verbosity = 0)\n",
    "param_xgb = {'learning_rate': [0.1, 0.3], 'max_depth': [3, 5], \n",
    "             'min_child_weight': [1, 5], 'reg_lambda': [1, 5], 'gamma': [.1, 3, 5]}\n",
    "\n",
    "xgb_cl4 = GridSearchCV(xgb, param_grid = param_xgb, scoring = 'roc_auc')\n",
    "xgb_cl4.fit(X_xgb4, y_xgb4)"
   ]
  },
  {
   "cell_type": "code",
   "execution_count": 35,
   "metadata": {},
   "outputs": [
    {
     "name": "stdout",
     "output_type": "stream",
     "text": [
      "Nice job!  See how well your strategy worked on our test data below!\n",
      "\n",
      "Your irr with this strategy is 0.0185.\n",
      "\n",
      "Your nir with this strategy is 214.70.\n",
      "We came up with a model with an irr of 0.0188 and an nir of 189.45 on the test set.\n",
      "\n",
      " How did you do?\n"
     ]
    },
    {
     "data": {
      "text/plain": [
       "(0.01849462654235275, 214.70000000000005)"
      ]
     },
     "execution_count": 35,
     "metadata": {},
     "output_type": "execute_result"
    }
   ],
   "source": [
    "# Defining function using XGBClassifier for client segmentation:\n",
    "def promotion_strategy_xgb4(df):\n",
    "    '''\n",
    "    INPUT \n",
    "    df - a dataframe with *only* the columns V1 - V7 (same as train_data)\n",
    "\n",
    "    OUTPUT\n",
    "    promotion_df - np.array with the values\n",
    "                   'Yes' or 'No' related to whether or not an \n",
    "                   individual should recieve a promotion \n",
    "                   should be the length of df.shape[0]\n",
    "                \n",
    "    Ex:\n",
    "    INPUT: df\n",
    "    \n",
    "    V1\tV2\t  V3\tV4\tV5\tV6\tV7\n",
    "    2\t30\t-1.1\t1\t1\t3\t2\n",
    "    3\t32\t-0.6\t2\t3\t2\t2\n",
    "    2\t30\t0.13\t1\t1\t4\t2\n",
    "    \n",
    "    OUTPUT: promotion\n",
    "    \n",
    "    array(['Yes', 'Yes', 'No'])\n",
    "    indicating the first two users would recieve the promotion and \n",
    "    the last should not.\n",
    "    '''\n",
    "    X_test = df[features]\n",
    "    V2_cat = [0 if ((X_test.V2.iloc[i] < 15) | (X_test.V2.iloc[i] > 45)) \\\n",
    "              else 1 if ((15 <= X_test.V2.iloc[i] < 25) | (35 < X_test.V2.iloc[i] <= 45)) \\\n",
    "              else 2 for i in range(X_test.shape[0])]\n",
    "    X_test['V2'] = V2_cat\n",
    "    V3_cat = [3 if (X_test.V3.iloc[i] <= -1) \\\n",
    "              else 2 if (-1 < X_test.V3.iloc[i] <= -0.5) \\\n",
    "              else 1 if (-0.5 < X_test.V3.iloc[i] <= 0) \\\n",
    "              else -1 if (0 < X_test.V3.iloc[i] <= 0.5) \\\n",
    "              else -2 if (0.5 < X_test.V3.iloc[i] <= 1) \\\n",
    "              else -3 for i in range(X_test.shape[0])]\n",
    "    X_test['V3'] = V3_cat\n",
    "    y_pred = xgb_cl4.predict(X_test)\n",
    "    prom_list = ['Yes' if y_pred[i] == 1 else 'No' for i in range(len(y_pred))]\n",
    "    \n",
    "    promotion = np.array(prom_list)\n",
    "    \n",
    "    return promotion\n",
    "\n",
    "# Testing IRR and NIR for this strategy:\n",
    "test_results(promotion_strategy_xgb4)"
   ]
  },
  {
   "cell_type": "markdown",
   "metadata": {},
   "source": [
    "<p>\n",
    "    In this last approach, we finally achieved results that overcome the ones given by Starbucks. While our <i>irr</i> has a similar value in comparison to Starbucks's model, our <i>nir</i> showed a great improvement, close to 15%.\n",
    "</p>"
   ]
  },
  {
   "cell_type": "markdown",
   "metadata": {},
   "source": [
    "<h2>Conclusion</h2>\n",
    "<p>\n",
    "    We could see through this project the importance of data analysis in Data Science projects. Even when it's not clear what a feature represents, through the analysis process we were able to guess what some features could represent, and more importantly how they related to our business problem.\n",
    "</p>\n",
    "<p>\n",
    "    Understanding how differently these features behave when comparing our study groups made it possible to elaborate different feature engineering strategies that resulted in better optimization.\n",
    "</p>\n",
    "<p>\n",
    "    The most successful model came up with this strategy:\n",
    "    <li>V2 was separated into classes labeled with the weight of their occurrences in the dataset, following a normal distribution;</li>\n",
    "    <li>V3 was separated into 6 classes, lower values were labeled with higher numbers since they represent the ones who are more likely to respond to the promotional event;</li>\n",
    "</p>\n",
    "<p>\n",
    "    Besides that, we could guess that that V2 probably represents clients' age, while V3 stands for their incomes.\n",
    "</p>"
   ]
  }
 ],
 "metadata": {
  "kernelspec": {
   "display_name": "Python 3",
   "language": "python",
   "name": "python3"
  },
  "language_info": {
   "codemirror_mode": {
    "name": "ipython",
    "version": 3
   },
   "file_extension": ".py",
   "mimetype": "text/x-python",
   "name": "python",
   "nbconvert_exporter": "python",
   "pygments_lexer": "ipython3",
   "version": "3.7.9"
  }
 },
 "nbformat": 4,
 "nbformat_minor": 2
}
